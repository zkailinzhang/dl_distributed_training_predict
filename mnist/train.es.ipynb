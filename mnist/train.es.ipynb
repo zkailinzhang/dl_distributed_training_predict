{
 "cells": [
  {
   "cell_type": "code",
   "execution_count": 1,
   "metadata": {},
   "outputs": [],
   "source": [
    "# -*- coding: utf-8 -*-\n",
    "%load_ext autoreload\n",
    "%autoreload 2\n",
    "%matplotlib inline"
   ]
  },
  {
   "cell_type": "code",
   "execution_count": 2,
   "metadata": {},
   "outputs": [
    {
     "name": "stderr",
     "output_type": "stream",
     "text": [
      "/usr/local/lib/python3.5/dist-packages/h5py/__init__.py:36: FutureWarning: Conversion of the second argument of issubdtype from `float` to `np.floating` is deprecated. In future, it will be treated as `np.float64 == np.dtype(float).type`.\n",
      "  from ._conv import register_converters as _register_converters\n"
     ]
    }
   ],
   "source": [
    "import os\n",
    "import tensorflow as tf\n",
    "import struct \n",
    "import numpy as np\n",
    "\n",
    "from PIL import Image\n",
    "import matplotlib.pyplot as plt\n",
    "from tensorflow.examples.tutorials.mnist import input_data\n",
    "import argparse"
   ]
  },
  {
   "cell_type": "markdown",
   "metadata": {},
   "source": [
    "#### 这是客户端本地项目路径  映射到   /code"
   ]
  },
  {
   "cell_type": "code",
   "execution_count": 3,
   "metadata": {},
   "outputs": [
    {
     "name": "stdout",
     "output_type": "stream",
     "text": [
      "LICENSE\r\n",
      "README.md\r\n",
      "Untitled-1\r\n",
      "Untitled-1p\r\n",
      "Untitled.ipynb\r\n",
      "bug-fix.ipynb\r\n",
      "ci\r\n",
      "download_data.py\r\n",
      "latest_helper.yml\r\n",
      "linear_regression.1.ipynb\r\n",
      "linear_regression.house.price.ipynb\r\n",
      "lnv_build.yml\r\n",
      "log\r\n",
      "lr-13.png\r\n",
      "mnist1\r\n",
      "model.ops\r\n",
      "model.py\r\n",
      "model_tf.py\r\n",
      "modelp\r\n",
      "polyaxonfile.yml\r\n",
      "polyaxonfile_declarations.yml\r\n",
      "polyaxonfile_hyperparams.yml\r\n",
      "polyaxonfile_hyperparams_bo.yml\r\n",
      "polyaxonfile_hyperparams_early_stopping.yml\r\n",
      "polyaxonfile_hyperparams_grid.yml\r\n",
      "polyaxonfile_hyperparams_hyperband.yml\r\n",
      "polyaxonfile_job.yml\r\n",
      "polyaxonfile_notebook.yml\r\n",
      "polyaxonfile_tensorboard.yml\r\n",
      "predict.ckpt.py\r\n",
      "predict.es.ipynb\r\n",
      "predict.es.py\r\n",
      "sgd_classifier.ipynb\r\n",
      "t.ipynb\r\n",
      "test.py\r\n",
      "testcomment.py\r\n",
      "train.es.ipynb\r\n"
     ]
    }
   ],
   "source": [
    "!ls"
   ]
  },
  {
   "cell_type": "markdown",
   "metadata": {},
   "source": [
    "#### 先下载数据库\n",
    "     客户端执行  polyaxon run -f job.yml  然后会在  虚拟主机/data/mnist在有数据文件"
   ]
  },
  {
   "cell_type": "markdown",
   "metadata": {},
   "source": [
    "####  数据路径存在虚拟主机路径下： /data/mnist 注意，客户端需要执行 polyaxon run -f job.yml"
   ]
  },
  {
   "cell_type": "code",
   "execution_count": 4,
   "metadata": {},
   "outputs": [
    {
     "name": "stdout",
     "output_type": "stream",
     "text": [
      "t10k-images-idx1-ubyte\t   t10k-labels-idx1-ubyte.gz\r\n",
      "t10k-images-idx3-ubyte\t   train-images-idx3-ubyte.gz\r\n",
      "t10k-images-idx3-ubyte.gz  train-labels-idx1-ubyte.gz\r\n",
      "t10k-labels-idx1-ubyte\r\n"
     ]
    }
   ],
   "source": [
    "!ls /data/mnist\n",
    "data_path = '/data/mnist/'"
   ]
  },
  {
   "cell_type": "code",
   "execution_count": 5,
   "metadata": {},
   "outputs": [],
   "source": [
    "def set_logging(log_level=None):\n",
    "    if log_level == 'INFO':\n",
    "        log_level = tf.logging.INFO\n",
    "    elif log_level == 'DEBUG':\n",
    "        log_level = tf.logging.DEBUG\n",
    "    elif log_level == 'WARN':\n",
    "        log_level = tf.logging.WARN\n",
    "    else:\n",
    "        log_level = 'INFO'\n",
    "\n",
    "    tf.logging.set_verbosity(log_level)"
   ]
  },
  {
   "cell_type": "code",
   "execution_count": 6,
   "metadata": {},
   "outputs": [],
   "source": [
    "set_logging('DEBUG')\n"
   ]
  },
  {
   "cell_type": "code",
   "execution_count": 7,
   "metadata": {},
   "outputs": [
    {
     "name": "stdout",
     "output_type": "stream",
     "text": [
      "Extracting /data/mnist/train-images-idx3-ubyte.gz\n",
      "Extracting /data/mnist/train-labels-idx1-ubyte.gz\n",
      "Extracting /data/mnist/t10k-images-idx3-ubyte.gz\n",
      "Extracting /data/mnist/t10k-labels-idx1-ubyte.gz\n"
     ]
    }
   ],
   "source": [
    "#加载数据\n",
    "mnist = input_data.read_data_sets(data_path, one_hot=False)"
   ]
  },
  {
   "cell_type": "code",
   "execution_count": 8,
   "metadata": {},
   "outputs": [],
   "source": [
    "#定义模型网络  tf.esstimator api\n",
    "def get_model_fn(learning_rate, dropout, activation):\n",
    "    \"\"\"Create a `model_fn` compatible with tensorflow estimator based on hyperparams.\"\"\"\n",
    "\n",
    "    def get_network(x_dict, is_training):\n",
    "        with tf.variable_scope('network'):\n",
    "            x = x_dict['images']\n",
    "            x = tf.reshape(x, shape=[-1, 28, 28, 1])\n",
    "            conv1 = tf.layers.conv2d(x, 32, 5, activation=activation)\n",
    "            conv1 = tf.layers.max_pooling2d(conv1, 2, 2)\n",
    "            conv2 = tf.layers.conv2d(conv1, 64, 3, activation=activation)\n",
    "            conv2 = tf.layers.max_pooling2d(conv2, 2, 2)\n",
    "            fc1 = tf.contrib.layers.flatten(conv2)\n",
    "            fc1 = tf.layers.dense(fc1, 1024)\n",
    "            fc1 = tf.layers.dropout(fc1, rate=dropout, training=is_training)\n",
    "            out = tf.layers.dense(fc1, 10)\n",
    "        return out\n",
    "\n",
    "    def model_fn(features, labels, mode):\n",
    "        is_training = mode == tf.estimator.ModeKeys.TRAIN\n",
    "\n",
    "        results = get_network(features, is_training=is_training)\n",
    "\n",
    "        predictions = tf.argmax(results, axis=1)\n",
    "\n",
    "        # Return prediction\n",
    "        if mode == tf.estimator.ModeKeys.PREDICT:\n",
    "            return tf.estimator.EstimatorSpec(mode, predictions=predictions)\n",
    "\n",
    "        # Define loss\n",
    "        loss_op = tf.reduce_mean(tf.nn.sparse_softmax_cross_entropy_with_logits(\n",
    "            logits=results, labels=tf.cast(labels, dtype=tf.int32)))\n",
    "        optimizer = tf.train.AdamOptimizer(learning_rate=learning_rate)\n",
    "        train_op = optimizer.minimize(loss_op, global_step=tf.train.get_global_step())\n",
    "\n",
    "        # Evaluation metrics\n",
    "        accuracy = tf.metrics.accuracy(labels=labels, predictions=predictions)\n",
    "        precision = tf.metrics.precision(labels=labels, predictions=predictions)\n",
    "\n",
    "        return tf.estimator.EstimatorSpec(\n",
    "            mode=mode,\n",
    "            predictions=predictions,\n",
    "            loss=loss_op,\n",
    "            train_op=train_op,\n",
    "            eval_metric_ops={'accuracy': accuracy, 'precision': precision})\n",
    "\n",
    "    return model_fn\n",
    "\n",
    "\n"
   ]
  },
  {
   "cell_type": "code",
   "execution_count": 9,
   "metadata": {},
   "outputs": [],
   "source": [
    "#模型参数\n",
    "batch_size =128\n",
    "num_steps =800\n",
    "num_iterations = 1\n",
    "num_epochs = 1\n",
    "\n",
    "learning_rate = 0.001\n",
    "dropout = 0.25\n",
    "activation = 'relu'\n",
    "distributed = False\n",
    "\n"
   ]
  },
  {
   "cell_type": "code",
   "execution_count": 10,
   "metadata": {},
   "outputs": [],
   "source": [
    "#模型保存路径，没有新建，，这个是在pod内的，没有持久化\n",
    "outputs_path = './log'"
   ]
  },
  {
   "cell_type": "code",
   "execution_count": 19,
   "metadata": {},
   "outputs": [
    {
     "name": "stdout",
     "output_type": "stream",
     "text": [
      "experiments  groups  jobs\r\n"
     ]
    }
   ],
   "source": [
    "!ls /outputs/root/quick-start1/"
   ]
  },
  {
   "cell_type": "code",
   "execution_count": 21,
   "metadata": {},
   "outputs": [
    {
     "name": "stdout",
     "output_type": "stream",
     "text": [
      "checkpoint\r\n",
      "eval\r\n",
      "events.out.tfevents.1553656058.plx-d9f55b96b11b470083a5362839007717-master-0\r\n",
      "graph.pbtxt\r\n",
      "model.ckpt-1.data-00000-of-00001\r\n",
      "model.ckpt-1.index\r\n",
      "model.ckpt-1.meta\r\n",
      "model.ckpt-430.data-00000-of-00001\r\n",
      "model.ckpt-430.index\r\n",
      "model.ckpt-430.meta\r\n"
     ]
    }
   ],
   "source": [
    "!ls /outputs/root/quick-start1/experiments/5"
   ]
  },
  {
   "cell_type": "code",
   "execution_count": 25,
   "metadata": {},
   "outputs": [
    {
     "name": "stdout",
     "output_type": "stream",
     "text": [
      "ls: cannot access '/mnt/polyaxon/outputs': No such file or directory\r\n"
     ]
    }
   ],
   "source": [
    "#虽然看不到虚拟主机的目录，但是pod根目录下的outputs 是挂在虚拟主机的 /mnt/polyaxon/outputs这个目录的，若新建，会同步过去的\n",
    "#同步到虚拟主机后，这样pod失效，也不会影响虚拟主机的中保存的模型，并且可一 scp 拷贝到本地\n",
    "!ls /mnt/polyaxon/outputs"
   ]
  },
  {
   "cell_type": "code",
   "execution_count": 27,
   "metadata": {},
   "outputs": [
    {
     "name": "stdout",
     "output_type": "stream",
     "text": [
      "mkdir: cannot create directory '/outputs/root/quick-start1/experiments/ipython': File exists\n",
      "3  4  5  ipython\n"
     ]
    }
   ],
   "source": [
    "!mkdir /outputs/root/quick-start1/experiments/ipython\n",
    "!ls /outputs/root/quick-start1/experiments/"
   ]
  },
  {
   "cell_type": "code",
   "execution_count": 28,
   "metadata": {},
   "outputs": [],
   "source": [
    "\n",
    "\n",
    "#模型\n",
    "outputs_path_vm = '/outputs/root/quick-start1/experiments/ipython'"
   ]
  },
  {
   "cell_type": "code",
   "execution_count": 29,
   "metadata": {},
   "outputs": [],
   "source": [
    "if activation == 'relu':\n",
    "    activation = tf.nn.relu\n",
    "elif activation == 'sigmoid':\n",
    "    activation = tf.nn.sigmoid\n",
    "elif activation == 'linear':\n",
    "    activation = None"
   ]
  },
  {
   "cell_type": "code",
   "execution_count": 31,
   "metadata": {},
   "outputs": [
    {
     "name": "stdout",
     "output_type": "stream",
     "text": [
      "INFO:tensorflow:Using default config.\n",
      "INFO:tensorflow:Using config: {'_task_type': 'worker', '_tf_random_seed': None, '_master': '', '_num_ps_replicas': 0, '_service': None, '_session_config': None, '_model_dir': '/outputs/root/quick-start1/experiments/ipython', '_is_chief': True, '_save_checkpoints_secs': 600, '_save_checkpoints_steps': None, '_cluster_spec': <tensorflow.python.training.server_lib.ClusterSpec object at 0x7f44b8b1dd30>, '_save_summary_steps': 100, '_task_id': 0, '_num_worker_replicas': 1, '_keep_checkpoint_max': 5, '_log_step_count_steps': 100, '_keep_checkpoint_every_n_hours': 10000}\n"
     ]
    }
   ],
   "source": [
    "#模型实例\n",
    "estimator = tf.estimator.Estimator(\n",
    "    get_model_fn(learning_rate=learning_rate, dropout=dropout, activation=activation),\n",
    "    model_dir=outputs_path_vm)"
   ]
  },
  {
   "cell_type": "code",
   "execution_count": 32,
   "metadata": {},
   "outputs": [],
   "source": [
    "#开始训练,在虚拟机里的环境训练\n",
    "\n",
    "input_fn = tf.estimator.inputs.numpy_input_fn(\n",
    "    x={'images': mnist.train.images},\n",
    "    y=mnist.train.labels,\n",
    "    batch_size=batch_size,\n",
    "    num_epochs=num_epochs,\n",
    "    shuffle=True)"
   ]
  },
  {
   "cell_type": "code",
   "execution_count": null,
   "metadata": {},
   "outputs": [],
   "source": []
  },
  {
   "cell_type": "code",
   "execution_count": 33,
   "metadata": {},
   "outputs": [
    {
     "name": "stdout",
     "output_type": "stream",
     "text": [
      "INFO:tensorflow:Create CheckpointSaverHook.\n",
      "INFO:tensorflow:Saving checkpoints for 1 into /outputs/root/quick-start1/experiments/ipython/model.ckpt.\n",
      "INFO:tensorflow:step = 1, loss = 2.3205762\n",
      "INFO:tensorflow:global_step/sec: 11.2814\n",
      "INFO:tensorflow:step = 101, loss = 0.10559823 (8.865 sec)\n",
      "INFO:tensorflow:global_step/sec: 12.9955\n",
      "INFO:tensorflow:step = 201, loss = 0.07940368 (7.695 sec)\n",
      "INFO:tensorflow:global_step/sec: 11.091\n",
      "INFO:tensorflow:step = 301, loss = 0.031227576 (9.016 sec)\n",
      "INFO:tensorflow:global_step/sec: 12.1377\n",
      "INFO:tensorflow:step = 401, loss = 0.03772916 (8.239 sec)\n",
      "INFO:tensorflow:Saving checkpoints for 430 into /outputs/root/quick-start1/experiments/ipython/model.ckpt.\n",
      "INFO:tensorflow:Loss for final step: 0.06753243.\n",
      "INFO:tensorflow:Starting evaluation at 2019-03-30-03:21:52\n",
      "INFO:tensorflow:Restoring parameters from /outputs/root/quick-start1/experiments/ipython/model.ckpt-430\n",
      "INFO:tensorflow:Finished evaluation at 2019-03-30-03:21:54\n",
      "INFO:tensorflow:Saving dict for global step 430: accuracy = 0.9835, global_step = 430, loss = 0.049766693, precision = 0.9996667\n",
      "Testing metrics: {} {'loss': 0.049766693, 'accuracy': 0.9835, 'global_step': 430, 'precision': 0.9996667}\n",
      "loss=:0.04976669326424599,accuracy=0.9835000038146973,precision=0.999666690826416\n"
     ]
    }
   ],
   "source": [
    "for i in range(num_iterations):\n",
    "    estimator.train(input_fn, steps=num_steps)\n",
    "\n",
    "    # Evaluate the Model\n",
    "    input_fn = tf.estimator.inputs.numpy_input_fn(\n",
    "        x={'images': mnist.test.images},\n",
    "        y=mnist.test.labels,\n",
    "        batch_size=batch_size,\n",
    "        shuffle=False)\n",
    "\n",
    "    metrics = estimator.evaluate(input_fn)\n",
    "\n",
    "    print(\"Testing metrics: {}\", metrics)\n",
    "    print('loss=:{},accuracy={},precision={}'.format( \n",
    "        metrics['loss'],\n",
    "                           metrics['accuracy'],\n",
    "                           metrics['precision']))"
   ]
  },
  {
   "cell_type": "code",
   "execution_count": 32,
   "metadata": {},
   "outputs": [
    {
     "name": "stdout",
     "output_type": "stream",
     "text": [
      "checkpoint\r\n",
      "eval\r\n",
      "events.out.tfevents.1553700970.zkl-MACH-WX9\r\n",
      "events.out.tfevents.1553752727.plx-notebook-d0507202fec244d2a7dd8ece3c8d078c-fbd79c85f-jtn4j\r\n",
      "graph.pbtxt\r\n",
      "model.ckpt-0.data-00000-of-00001\r\n",
      "model.ckpt-0.index\r\n",
      "model.ckpt-0.meta\r\n",
      "model.ckpt-430.data-00000-of-00001\r\n",
      "model.ckpt-430.index\r\n",
      "model.ckpt-430.meta\r\n",
      "model.ckpt-431.data-00000-of-00001\r\n",
      "model.ckpt-431.index\r\n",
      "model.ckpt-431.meta\r\n",
      "model.ckpt-860.data-00000-of-00001\r\n",
      "model.ckpt-860.index\r\n",
      "model.ckpt-860.meta\r\n"
     ]
    }
   ],
   "source": [
    "#这个\n",
    "!ls ./log/"
   ]
  },
  {
   "cell_type": "code",
   "execution_count": 34,
   "metadata": {},
   "outputs": [
    {
     "name": "stdout",
     "output_type": "stream",
     "text": [
      "checkpoint\r\n",
      "eval\r\n",
      "events.out.tfevents.1553916075.plx-notebook-58e143aa2f7f4bb384b4cc23f075fc5a-665f9dcf9f-kjzqm\r\n",
      "graph.pbtxt\r\n",
      "model.ckpt-1.data-00000-of-00001\r\n",
      "model.ckpt-1.index\r\n",
      "model.ckpt-1.meta\r\n",
      "model.ckpt-430.data-00000-of-00001\r\n",
      "model.ckpt-430.index\r\n",
      "model.ckpt-430.meta\r\n"
     ]
    }
   ],
   "source": [
    "!ls {outputs_path_vm}"
   ]
  },
  {
   "cell_type": "code",
   "execution_count": null,
   "metadata": {},
   "outputs": [],
   "source": []
  },
  {
   "cell_type": "code",
   "execution_count": null,
   "metadata": {},
   "outputs": [],
   "source": []
  },
  {
   "cell_type": "code",
   "execution_count": null,
   "metadata": {},
   "outputs": [],
   "source": []
  },
  {
   "cell_type": "code",
   "execution_count": null,
   "metadata": {},
   "outputs": [],
   "source": []
  },
  {
   "cell_type": "code",
   "execution_count": null,
   "metadata": {},
   "outputs": [],
   "source": []
  },
  {
   "cell_type": "code",
   "execution_count": null,
   "metadata": {},
   "outputs": [],
   "source": []
  }
 ],
 "metadata": {
  "kernelspec": {
   "display_name": "Python 3",
   "language": "python",
   "name": "python3"
  },
  "language_info": {
   "codemirror_mode": {
    "name": "ipython",
    "version": 3
   },
   "file_extension": ".py",
   "mimetype": "text/x-python",
   "name": "python",
   "nbconvert_exporter": "python",
   "pygments_lexer": "ipython3",
   "version": "3.5.2"
  }
 },
 "nbformat": 4,
 "nbformat_minor": 2
}
