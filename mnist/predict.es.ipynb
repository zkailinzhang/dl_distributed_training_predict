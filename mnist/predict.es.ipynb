{
 "cells": [
  {
   "cell_type": "code",
   "execution_count": 3,
   "metadata": {},
   "outputs": [],
   "source": [
    "# -*- coding: utf-8 -*-\n",
    "%load_ext autoreload\n",
    "%autoreload 2\n",
    "%matplotlib inline"
   ]
  },
  {
   "cell_type": "code",
   "execution_count": 4,
   "metadata": {},
   "outputs": [
    {
     "name": "stderr",
     "output_type": "stream",
     "text": [
      "/usr/local/lib/python3.5/dist-packages/h5py/__init__.py:36: FutureWarning: Conversion of the second argument of issubdtype from `float` to `np.floating` is deprecated. In future, it will be treated as `np.float64 == np.dtype(float).type`.\n",
      "  from ._conv import register_converters as _register_converters\n"
     ]
    }
   ],
   "source": [
    "import os\n",
    "import tensorflow as tf\n",
    "import struct \n",
    "import numpy as np\n",
    "\n",
    "from PIL import Image\n",
    "import matplotlib.pyplot as plt"
   ]
  },
  {
   "cell_type": "code",
   "execution_count": 5,
   "metadata": {},
   "outputs": [
    {
     "name": "stdout",
     "output_type": "stream",
     "text": [
      "LICENSE\r\n",
      "README.md\r\n",
      "Untitled-1\r\n",
      "Untitled-1p\r\n",
      "Untitled.ipynb\r\n",
      "bug-fix.ipynb\r\n",
      "ci\r\n",
      "download_data.py\r\n",
      "latest_helper.yml\r\n",
      "linear_regression.1.ipynb\r\n",
      "linear_regression.house.price.ipynb\r\n",
      "lnv_build.yml\r\n",
      "log\r\n",
      "lr-13.png\r\n",
      "mnist1\r\n",
      "model.ops\r\n",
      "model.py\r\n",
      "model_tf.py\r\n",
      "modelp\r\n",
      "polyaxonfile.yml\r\n",
      "polyaxonfile_declarations.yml\r\n",
      "polyaxonfile_hyperparams.yml\r\n",
      "polyaxonfile_hyperparams_bo.yml\r\n",
      "polyaxonfile_hyperparams_early_stopping.yml\r\n",
      "polyaxonfile_hyperparams_grid.yml\r\n",
      "polyaxonfile_hyperparams_hyperband.yml\r\n",
      "polyaxonfile_job.yml\r\n",
      "polyaxonfile_notebook.yml\r\n",
      "polyaxonfile_tensorboard.yml\r\n",
      "predict.ckpt.py\r\n",
      "predict.es.ipynb\r\n",
      "predict.es.py\r\n",
      "sgd_classifier.ipynb\r\n",
      "t.ipynb\r\n",
      "test.py\r\n",
      "testcomment.py\r\n"
     ]
    }
   ],
   "source": [
    "!ls"
   ]
  },
  {
   "cell_type": "markdown",
   "metadata": {},
   "source": [
    "####  数据路径存在虚拟主机路径下： /data/mnist 注意，客户端需要执行 polyaxon run -f job.yml\n"
   ]
  },
  {
   "cell_type": "code",
   "execution_count": 6,
   "metadata": {},
   "outputs": [
    {
     "name": "stdout",
     "output_type": "stream",
     "text": [
      "t10k-images-idx1-ubyte\t   t10k-labels-idx1-ubyte.gz\r\n",
      "t10k-images-idx3-ubyte\t   train-images-idx3-ubyte.gz\r\n",
      "t10k-images-idx3-ubyte.gz  train-labels-idx1-ubyte.gz\r\n",
      "t10k-labels-idx1-ubyte\r\n"
     ]
    }
   ],
   "source": [
    "!ls /data/mnist"
   ]
  },
  {
   "cell_type": "code",
   "execution_count": 7,
   "metadata": {},
   "outputs": [
    {
     "data": {
      "text/plain": [
       "'/data/mnist/'"
      ]
     },
     "execution_count": 7,
     "metadata": {},
     "output_type": "execute_result"
    }
   ],
   "source": [
    "test_images = '/data/mnist/'\n",
    "test_images\n",
    "os.system('gunzip -c {} > {}'.format(test_images+ 't10k-images-idx3-ubyte.gz',test_images +'t10k-images-idx3-ubyte'))\n",
    "os.system('gunzip -c {} > {}'.format(test_images + 't10k-labels-idx1-ubyte.gz',test_images +'t10k-labels-idx1-ubyte'))\n",
    "test_images"
   ]
  },
  {
   "cell_type": "markdown",
   "metadata": {},
   "source": [
    "#加载数据的路径\n",
    "#path='./dataset/mnist/raw'"
   ]
  },
  {
   "cell_type": "code",
   "execution_count": 8,
   "metadata": {},
   "outputs": [],
   "source": [
    "import struct\n",
    "\n",
    "def load_mnist_train(path, kind='train'):    \n",
    "    labels_path = os.path.join(path,'%s-labels-idx1-ubyte'% kind)\n",
    "    images_path = os.path.join(path,'%s-images-idx3-ubyte'% kind)\n",
    "    with open(labels_path, 'rb') as lbpath:\n",
    "        magic, n = struct.unpack('>II',lbpath.read(8))\n",
    "        labels = np.fromfile(lbpath,dtype=np.uint8)\n",
    "    with open(images_path, 'rb') as imgpath:\n",
    "        magic, num, rows, cols = struct.unpack('>IIII',imgpath.read(16))\n",
    "        images = np.fromfile(imgpath,dtype=np.uint8).reshape(len(labels), 784)\n",
    "    return images, labels\n",
    "\n",
    "\n",
    "def load_mnist_test(images_path,labels_path):\n",
    "\n",
    "    with open(labels_path, 'rb') as lbpath:\n",
    "        magic, n = struct.unpack('>II',lbpath.read(8))\n",
    "        labels = np.fromfile(lbpath,dtype=np.uint8)\n",
    "    with open(images_path, 'rb') as imgpath:\n",
    "        magic, num, rows, cols = struct.unpack('>IIII',imgpath.read(16))\n",
    "        images = np.fromfile(imgpath,dtype=np.uint8).reshape(len(labels), 784)\n",
    "    return images, labels "
   ]
  },
  {
   "cell_type": "code",
   "execution_count": 9,
   "metadata": {},
   "outputs": [
    {
     "data": {
      "text/plain": [
       "'/data/mnist/'"
      ]
     },
     "execution_count": 9,
     "metadata": {},
     "output_type": "execute_result"
    }
   ],
   "source": [
    "test_images"
   ]
  },
  {
   "cell_type": "code",
   "execution_count": 10,
   "metadata": {},
   "outputs": [],
   "source": [
    "test_images_path= os.path.join(test_images,'t10k-images-idx3-ubyte')\n",
    "test_labels_path= os.path.join(test_images, 't10k-labels-idx1-ubyte')"
   ]
  },
  {
   "cell_type": "code",
   "execution_count": 11,
   "metadata": {},
   "outputs": [
    {
     "name": "stdout",
     "output_type": "stream",
     "text": [
      "(10000, 784) (10000,)\n"
     ]
    }
   ],
   "source": [
    "\n",
    "test_images=[]\n",
    "test_labels=[]\n",
    "test_images,test_labels=load_mnist_test(test_images_path,test_labels_path)\n",
    "print(np.shape(test_images),np.shape(test_labels))"
   ]
  },
  {
   "cell_type": "code",
   "execution_count": 12,
   "metadata": {},
   "outputs": [
    {
     "data": {
      "text/plain": [
       "Text(0.5,1,'7')"
      ]
     },
     "execution_count": 12,
     "metadata": {},
     "output_type": "execute_result"
    },
    {
     "data": {
      "image/png": "[encoded data removed]",
      "text/plain": [
       "<matplotlib.figure.Figure at 0x7f90aac9fcc0>"
      ]
     },
     "metadata": {},
     "output_type": "display_data"
    }
   ],
   "source": [
    "img_random = test_images[0,:].reshape(28,28)\n",
    "plt.imshow(img_random,cmap=plt.cm.gray)\n",
    "plt.title(test_labels[0])\n",
    "plt.Text(0.5,1,'7')\n"
   ]
  },
  {
   "cell_type": "markdown",
   "metadata": {},
   "source": [
    "#### 模型路径存在虚拟主机路径下： /outputs/root/quick-start1/experiments/5\n"
   ]
  },
  {
   "cell_type": "code",
   "execution_count": 13,
   "metadata": {},
   "outputs": [
    {
     "name": "stdout",
     "output_type": "stream",
     "text": [
      "/outputs/root//quick-start1/experiments/5/\n"
     ]
    }
   ],
   "source": [
    "modelpathpre = '/outputs/root//'\n",
    "experiment  = 'quick-start1/'\n",
    "exp_num = 'experiments/5/'\n",
    "\n",
    "modelpath = modelpathpre + experiment  + exp_num\n",
    "print(modelpath)"
   ]
  },
  {
   "cell_type": "code",
   "execution_count": 14,
   "metadata": {},
   "outputs": [
    {
     "data": {
      "text/plain": [
       "0"
      ]
     },
     "execution_count": 14,
     "metadata": {},
     "output_type": "execute_result"
    }
   ],
   "source": [
    "#没有？\n",
    "asda =os.system('ls {}'.format(modelpath))\n",
    "asda"
   ]
  },
  {
   "cell_type": "code",
   "execution_count": 15,
   "metadata": {},
   "outputs": [
    {
     "name": "stdout",
     "output_type": "stream",
     "text": [
      "checkpoint\r\n",
      "eval\r\n",
      "events.out.tfevents.1553656058.plx-d9f55b96b11b470083a5362839007717-master-0\r\n",
      "graph.pbtxt\r\n",
      "model.ckpt-1.data-00000-of-00001\r\n",
      "model.ckpt-1.index\r\n",
      "model.ckpt-1.meta\r\n",
      "model.ckpt-430.data-00000-of-00001\r\n",
      "model.ckpt-430.index\r\n",
      "model.ckpt-430.meta\r\n"
     ]
    }
   ],
   "source": [
    "!ls {modelpath}"
   ]
  },
  {
   "cell_type": "markdown",
   "metadata": {},
   "source": [
    "#### 重点来了，加载模型，读取模型"
   ]
  },
  {
   "cell_type": "code",
   "execution_count": 16,
   "metadata": {},
   "outputs": [],
   "source": [
    "#tf.estimator  需要写网络的  \n",
    "#用estimator加载\n",
    "mode = tf.estimator.ModeKeys.PREDICT"
   ]
  },
  {
   "cell_type": "code",
   "execution_count": 27,
   "metadata": {},
   "outputs": [],
   "source": [
    "def get_model_fn(dropout):\n",
    "    \"\"\"Create a `model_fn` compatible with tensorflow estimator based on hyperparams.\"\"\"\n",
    "\n",
    "    def get_network(x_dict, is_training):\n",
    "        with tf.variable_scope('network'):\n",
    "            x = x_dict['images']\n",
    "            x = tf.reshape(x, shape=[-1, 28, 28, 1])\n",
    "            conv1 = tf.layers.conv2d(x, 32, 5, activation=tf.nn.relu)\n",
    "            conv1 = tf.layers.max_pooling2d(conv1, 2, 2)\n",
    "            conv2 = tf.layers.conv2d(conv1, 64, 3, activation=tf.nn.relu)\n",
    "            conv2 = tf.layers.max_pooling2d(conv2, 2, 2)\n",
    "            fc1 = tf.contrib.layers.flatten(conv2)\n",
    "            fc1 = tf.layers.dense(fc1, 1024)\n",
    "            fc1 = tf.layers.dropout(fc1, rate=dropout, training=is_training)\n",
    "            out = tf.layers.dense(fc1, 10)\n",
    "        return out\n",
    "\n",
    "    def model_fn(features, labels, mode):\n",
    "        is_training = mode == tf.estimator.ModeKeys.TRAIN\n",
    "        #is_training = 0\n",
    "        results = get_network(features, is_training=is_training)\n",
    "\n",
    "        predictions = tf.argmax(results, axis=1)\n",
    "\n",
    "        # Return prediction\n",
    "        if mode == tf.estimator.ModeKeys.PREDICT:\n",
    "            return tf.estimator.EstimatorSpec(mode, predictions=predictions)\n",
    "#             return tf.estimator.EstimatorSpec(mode, predictions=\n",
    "#                                               {'predict':tf.argmax(predictions,1)})\n",
    "\n",
    "\n",
    "                # Define loss\n",
    "        loss_op = tf.reduce_mean(tf.nn.sparse_softmax_cross_entropy_with_logits(\n",
    "            logits=results, labels=tf.cast(labels, dtype=tf.int32)))\n",
    "        optimizer = tf.train.AdamOptimizer(learning_rate=0.001)\n",
    "        train_op = optimizer.minimize(loss_op, global_step=tf.train.get_global_step())\n",
    "\n",
    "        # Evaluation metrics\n",
    "        accuracy = tf.metrics.accuracy(labels=labels, predictions=predictions)\n",
    "        precision = tf.metrics.precision(labels=labels, predictions=predictions)\n",
    "\n",
    "        return tf.estimator.EstimatorSpec(\n",
    "            mode=mode,\n",
    "            predictions=predictions,\n",
    "            loss=loss_op,\n",
    "            train_op=train_op,\n",
    "            eval_metric_ops={'accuracy': accuracy, 'precision': precision})\n",
    "\n",
    "    return model_fn"
   ]
  },
  {
   "cell_type": "code",
   "execution_count": 28,
   "metadata": {},
   "outputs": [
    {
     "name": "stdout",
     "output_type": "stream",
     "text": [
      "INFO:tensorflow:Using default config.\n",
      "INFO:tensorflow:Using config: {'_master': '', '_task_id': 0, '_session_config': None, '_save_summary_steps': 100, '_num_ps_replicas': 0, '_save_checkpoints_steps': None, '_tf_random_seed': None, '_service': None, '_task_type': 'worker', '_num_worker_replicas': 1, '_log_step_count_steps': 100, '_save_checkpoints_secs': 600, '_is_chief': True, '_keep_checkpoint_max': 5, '_cluster_spec': <tensorflow.python.training.server_lib.ClusterSpec object at 0x7f90a62739b0>, '_keep_checkpoint_every_n_hours': 10000, '_model_dir': '/outputs/root//quick-start1/experiments/5/'}\n"
     ]
    }
   ],
   "source": [
    "estim = tf.estimator.Estimator(get_model_fn(dropout=0.),model_dir=modelpath)\n"
   ]
  },
  {
   "cell_type": "code",
   "execution_count": 29,
   "metadata": {},
   "outputs": [
    {
     "name": "stdout",
     "output_type": "stream",
     "text": [
      "float32 (1, 784)\n"
     ]
    }
   ],
   "source": [
    "img_random2 = img_random.reshape(1,784)\n",
    "img_random2 =img_random2.astype(np.float32)\n",
    "print(img_random2.dtype,np.shape(img_random2))"
   ]
  },
  {
   "cell_type": "code",
   "execution_count": 30,
   "metadata": {},
   "outputs": [],
   "source": [
    "input_fn2 = tf.estimator.inputs.numpy_input_fn(\n",
    "    x={'images': img_random2},\n",
    "    y=None,\n",
    "    batch_size=1,\n",
    "    shuffle=False\n",
    ")"
   ]
  },
  {
   "cell_type": "code",
   "execution_count": 31,
   "metadata": {},
   "outputs": [
    {
     "name": "stdout",
     "output_type": "stream",
     "text": [
      "<class 'generator'>\n",
      "INFO:tensorflow:Restoring parameters from /outputs/root//quick-start1/experiments/5/model.ckpt-430\n",
      "7\n"
     ]
    }
   ],
   "source": [
    "#TypeError: 'str' object is not callable 一直报这个错误\n",
    "\n",
    "pred = estim.predict(input_fn=input_fn2)\n",
    "print(type(pred))\n",
    "for p in pred:\n",
    "    print(p)"
   ]
  },
  {
   "cell_type": "code",
   "execution_count": null,
   "metadata": {},
   "outputs": [],
   "source": []
  },
  {
   "cell_type": "code",
   "execution_count": null,
   "metadata": {},
   "outputs": [],
   "source": []
  },
  {
   "cell_type": "code",
   "execution_count": null,
   "metadata": {},
   "outputs": [],
   "source": []
  },
  {
   "cell_type": "code",
   "execution_count": null,
   "metadata": {},
   "outputs": [],
   "source": []
  },
  {
   "cell_type": "code",
   "execution_count": null,
   "metadata": {},
   "outputs": [],
   "source": []
  }
 ],
 "metadata": {
  "kernelspec": {
   "display_name": "Python 3",
   "language": "python",
   "name": "python3"
  },
  "language_info": {
   "codemirror_mode": {
    "name": "ipython",
    "version": 3
   },
   "file_extension": ".py",
   "mimetype": "text/x-python",
   "name": "python",
   "nbconvert_exporter": "python",
   "pygments_lexer": "ipython3",
   "version": "3.5.2"
  }
 },
 "nbformat": 4,
 "nbformat_minor": 2
}
