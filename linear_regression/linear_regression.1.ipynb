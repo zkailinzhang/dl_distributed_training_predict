{
 "cells": [
  {
   "cell_type": "markdown",
   "metadata": {},
   "source": [
    "## 机器学习\n",
    "\n",
    "线性回归\n",
    "逻辑回归\n",
    "SVM\n",
    "RF\n",
    "\n",
    "\n",
    "项目的目的是预测房价，需要从众多可能的影响因子中挑选出最能预测房价的因子来建立模型，用于预测房价。\n",
    "\n",
    "分析步骤：\n",
    "1.  理解项目目的，再围绕目的进行分析。本项目的目的根据数据预测房价；\n",
    "\n",
    "2. 了解数据的分布特征，根据实际项目理解每列数据的意义。在数据分析时，最重要的是要熟悉业务，在业务基础上再分析，事半功倍；\n",
    "\n",
    "3. 挑选特征。刻画每个特征与目标变量之间的关系，找出最重要的特征；同时，为了避免多重共线性，需剔除掉一个特征与特征之间相关性非常大的特征；\n",
    "\n",
    "4. 应用交叉验证，对训练集进行建立合适的模型，再在测试集上测试；\n",
    "\n",
    "5. 最终建立预测房价的模型。"
   ]
  },
  {
   "cell_type": "code",
   "execution_count": null,
   "metadata": {},
   "outputs": [],
   "source": []
  },
  {
   "cell_type": "code",
   "execution_count": 3,
   "metadata": {},
   "outputs": [],
   "source": [
    "import matplotlib.pyplot as plt\n",
    "import numpy as np\n",
    "from sklearn import datasets, linear_model\n",
    "from sklearn.metrics import mean_squared_error, r2_score\n",
    "#matplotlib inline"
   ]
  },
  {
   "cell_type": "markdown",
   "metadata": {},
   "source": [
    "## 初试牛刀"
   ]
  },
  {
   "cell_type": "code",
   "execution_count": null,
   "metadata": {},
   "outputs": [],
   "source": [
    "import numpy as np\n",
    "from sklearn.linear_model import LinearRegression"
   ]
  },
  {
   "cell_type": "code",
   "execution_count": 4,
   "metadata": {},
   "outputs": [],
   "source": [
    "x = np.array([[1,1],[1,2],[2,2],[2,3]])\n",
    "#y=1*x_0 +2*x_1 +3"
   ]
  },
  {
   "cell_type": "code",
   "execution_count": 5,
   "metadata": {},
   "outputs": [],
   "source": [
    "y= np.dot(x,np.array([1,2]))+3"
   ]
  },
  {
   "cell_type": "code",
   "execution_count": 6,
   "metadata": {},
   "outputs": [],
   "source": [
    "#开始训练\n",
    "reg = LinearRegression().fit(x,y)"
   ]
  },
  {
   "cell_type": "code",
   "execution_count": 7,
   "metadata": {},
   "outputs": [
    {
     "data": {
      "text/plain": [
       "1.0"
      ]
     },
     "execution_count": 7,
     "metadata": {},
     "output_type": "execute_result"
    }
   ],
   "source": [
    "#模型得分\n",
    "reg.score(x,y)"
   ]
  },
  {
   "cell_type": "code",
   "execution_count": 8,
   "metadata": {},
   "outputs": [
    {
     "data": {
      "text/plain": [
       "array([1., 2.])"
      ]
     },
     "execution_count": 8,
     "metadata": {},
     "output_type": "execute_result"
    }
   ],
   "source": [
    "#模型系数 w\n",
    "reg.coef_"
   ]
  },
  {
   "cell_type": "code",
   "execution_count": 13,
   "metadata": {
    "scrolled": true
   },
   "outputs": [
    {
     "data": {
      "text/plain": [
       "3.0000000000000018"
      ]
     },
     "execution_count": 13,
     "metadata": {},
     "output_type": "execute_result"
    }
   ],
   "source": [
    "#模型截距 b\n",
    "reg.intercept_"
   ]
  },
  {
   "cell_type": "code",
   "execution_count": 10,
   "metadata": {
    "scrolled": true
   },
   "outputs": [
    {
     "data": {
      "text/plain": [
       "array([16.])"
      ]
     },
     "execution_count": 10,
     "metadata": {},
     "output_type": "execute_result"
    }
   ],
   "source": [
    "#模型预测，\n",
    "reg.predict(np.array([[3,5]]))"
   ]
  },
  {
   "cell_type": "code",
   "execution_count": null,
   "metadata": {},
   "outputs": [],
   "source": []
  },
  {
   "cell_type": "code",
   "execution_count": null,
   "metadata": {},
   "outputs": [],
   "source": []
  },
  {
   "cell_type": "code",
   "execution_count": null,
   "metadata": {},
   "outputs": [],
   "source": []
  },
  {
   "cell_type": "markdown",
   "metadata": {},
   "source": [
    "## 尝试复杂数据模型"
   ]
  },
  {
   "cell_type": "code",
   "execution_count": 5,
   "metadata": {},
   "outputs": [
    {
     "data": {
      "text/plain": [
       "{'DESCR': 'Diabetes dataset\\n================\\n\\nNotes\\n-----\\n\\nTen baseline variables, age, sex, body mass index, average blood\\npressure, and six blood serum measurements were obtained for each of n =\\n442 diabetes patients, as well as the response of interest, a\\nquantitative measure of disease progression one year after baseline.\\n\\nData Set Characteristics:\\n\\n  :Number of Instances: 442\\n\\n  :Number of Attributes: First 10 columns are numeric predictive values\\n\\n  :Target: Column 11 is a quantitative measure of disease progression one year after baseline\\n\\n  :Attributes:\\n    :Age:\\n    :Sex:\\n    :Body mass index:\\n    :Average blood pressure:\\n    :S1:\\n    :S2:\\n    :S3:\\n    :S4:\\n    :S5:\\n    :S6:\\n\\nNote: Each of these 10 feature variables have been mean centered and scaled by the standard deviation times `n_samples` (i.e. the sum of squares of each column totals 1).\\n\\nSource URL:\\nhttp://www4.stat.ncsu.edu/~boos/var.select/diabetes.html\\n\\nFor more information see:\\nBradley Efron, Trevor Hastie, Iain Johnstone and Robert Tibshirani (2004) \"Least Angle Regression,\" Annals of Statistics (with discussion), 407-499.\\n(http://web.stanford.edu/~hastie/Papers/LARS/LeastAngle_2002.pdf)\\n',\n",
       " 'data': array([[ 0.03807591,  0.05068012,  0.06169621, ..., -0.00259226,\n",
       "          0.01990842, -0.01764613],\n",
       "        [-0.00188202, -0.04464164, -0.05147406, ..., -0.03949338,\n",
       "         -0.06832974, -0.09220405],\n",
       "        [ 0.08529891,  0.05068012,  0.04445121, ..., -0.00259226,\n",
       "          0.00286377, -0.02593034],\n",
       "        ...,\n",
       "        [ 0.04170844,  0.05068012, -0.01590626, ..., -0.01107952,\n",
       "         -0.04687948,  0.01549073],\n",
       "        [-0.04547248, -0.04464164,  0.03906215, ...,  0.02655962,\n",
       "          0.04452837, -0.02593034],\n",
       "        [-0.04547248, -0.04464164, -0.0730303 , ..., -0.03949338,\n",
       "         -0.00421986,  0.00306441]]),\n",
       " 'feature_names': ['age',\n",
       "  'sex',\n",
       "  'bmi',\n",
       "  'bp',\n",
       "  's1',\n",
       "  's2',\n",
       "  's3',\n",
       "  's4',\n",
       "  's5',\n",
       "  's6'],\n",
       " 'target': array([151.,  75., 141., 206., 135.,  97., 138.,  63., 110., 310., 101.,\n",
       "         69., 179., 185., 118., 171., 166., 144.,  97., 168.,  68.,  49.,\n",
       "         68., 245., 184., 202., 137.,  85., 131., 283., 129.,  59., 341.,\n",
       "         87.,  65., 102., 265., 276., 252.,  90., 100.,  55.,  61.,  92.,\n",
       "        259.,  53., 190., 142.,  75., 142., 155., 225.,  59., 104., 182.,\n",
       "        128.,  52.,  37., 170., 170.,  61., 144.,  52., 128.,  71., 163.,\n",
       "        150.,  97., 160., 178.,  48., 270., 202., 111.,  85.,  42., 170.,\n",
       "        200., 252., 113., 143.,  51.,  52., 210.,  65., 141.,  55., 134.,\n",
       "         42., 111.,  98., 164.,  48.,  96.,  90., 162., 150., 279.,  92.,\n",
       "         83., 128., 102., 302., 198.,  95.,  53., 134., 144., 232.,  81.,\n",
       "        104.,  59., 246., 297., 258., 229., 275., 281., 179., 200., 200.,\n",
       "        173., 180.,  84., 121., 161.,  99., 109., 115., 268., 274., 158.,\n",
       "        107.,  83., 103., 272.,  85., 280., 336., 281., 118., 317., 235.,\n",
       "         60., 174., 259., 178., 128.,  96., 126., 288.,  88., 292.,  71.,\n",
       "        197., 186.,  25.,  84.,  96., 195.,  53., 217., 172., 131., 214.,\n",
       "         59.,  70., 220., 268., 152.,  47.,  74., 295., 101., 151., 127.,\n",
       "        237., 225.,  81., 151., 107.,  64., 138., 185., 265., 101., 137.,\n",
       "        143., 141.,  79., 292., 178.,  91., 116.,  86., 122.,  72., 129.,\n",
       "        142.,  90., 158.,  39., 196., 222., 277.,  99., 196., 202., 155.,\n",
       "         77., 191.,  70.,  73.,  49.,  65., 263., 248., 296., 214., 185.,\n",
       "         78.,  93., 252., 150.,  77., 208.,  77., 108., 160.,  53., 220.,\n",
       "        154., 259.,  90., 246., 124.,  67.,  72., 257., 262., 275., 177.,\n",
       "         71.,  47., 187., 125.,  78.,  51., 258., 215., 303., 243.,  91.,\n",
       "        150., 310., 153., 346.,  63.,  89.,  50.,  39., 103., 308., 116.,\n",
       "        145.,  74.,  45., 115., 264.,  87., 202., 127., 182., 241.,  66.,\n",
       "         94., 283.,  64., 102., 200., 265.,  94., 230., 181., 156., 233.,\n",
       "         60., 219.,  80.,  68., 332., 248.,  84., 200.,  55.,  85.,  89.,\n",
       "         31., 129.,  83., 275.,  65., 198., 236., 253., 124.,  44., 172.,\n",
       "        114., 142., 109., 180., 144., 163., 147.,  97., 220., 190., 109.,\n",
       "        191., 122., 230., 242., 248., 249., 192., 131., 237.,  78., 135.,\n",
       "        244., 199., 270., 164.,  72.,  96., 306.,  91., 214.,  95., 216.,\n",
       "        263., 178., 113., 200., 139., 139.,  88., 148.,  88., 243.,  71.,\n",
       "         77., 109., 272.,  60.,  54., 221.,  90., 311., 281., 182., 321.,\n",
       "         58., 262., 206., 233., 242., 123., 167.,  63., 197.,  71., 168.,\n",
       "        140., 217., 121., 235., 245.,  40.,  52., 104., 132.,  88.,  69.,\n",
       "        219.,  72., 201., 110.,  51., 277.,  63., 118.,  69., 273., 258.,\n",
       "         43., 198., 242., 232., 175.,  93., 168., 275., 293., 281.,  72.,\n",
       "        140., 189., 181., 209., 136., 261., 113., 131., 174., 257.,  55.,\n",
       "         84.,  42., 146., 212., 233.,  91., 111., 152., 120.,  67., 310.,\n",
       "         94., 183.,  66., 173.,  72.,  49.,  64.,  48., 178., 104., 132.,\n",
       "        220.,  57.])}"
      ]
     },
     "execution_count": 5,
     "metadata": {},
     "output_type": "execute_result"
    }
   ],
   "source": [
    "# Load the diabetes dataset\n",
    "diabetes = datasets.load_diabetes()\n",
    "diabetes"
   ]
  },
  {
   "cell_type": "code",
   "execution_count": 6,
   "metadata": {},
   "outputs": [
    {
     "data": {
      "text/plain": [
       "(442, 10)"
      ]
     },
     "execution_count": 6,
     "metadata": {},
     "output_type": "execute_result"
    }
   ],
   "source": [
    "np.shape(diabetes.data)"
   ]
  },
  {
   "cell_type": "code",
   "execution_count": 7,
   "metadata": {},
   "outputs": [
    {
     "data": {
      "text/plain": [
       "(442,)"
      ]
     },
     "execution_count": 7,
     "metadata": {},
     "output_type": "execute_result"
    }
   ],
   "source": [
    "np.shape(diabetes.target)"
   ]
  },
  {
   "cell_type": "code",
   "execution_count": 12,
   "metadata": {},
   "outputs": [],
   "source": [
    "?np.newaxis()\n",
    "#np.newaxis() 就是增加维度，放哪里，就在那个地方增加一个维度，  后面的0 是列，取第一列"
   ]
  },
  {
   "cell_type": "code",
   "execution_count": 9,
   "metadata": {},
   "outputs": [
    {
     "data": {
      "text/plain": [
       "array([[ 0.03807591],\n",
       "       [-0.00188202],\n",
       "       [ 0.08529891],\n",
       "       [-0.08906294],\n",
       "       [ 0.00538306],\n",
       "       [-0.09269548],\n",
       "       [-0.04547248],\n",
       "       [ 0.06350368],\n",
       "       [ 0.04170844],\n",
       "       [-0.07090025],\n",
       "       [-0.09632802],\n",
       "       [ 0.02717829],\n",
       "       [ 0.01628068],\n",
       "       [ 0.00538306],\n",
       "       [ 0.04534098],\n",
       "       [-0.05273755],\n",
       "       [-0.00551455],\n",
       "       [ 0.07076875],\n",
       "       [-0.0382074 ],\n",
       "       [-0.02730979],\n",
       "       [-0.04910502],\n",
       "       [-0.0854304 ],\n",
       "       [-0.0854304 ],\n",
       "       [ 0.04534098],\n",
       "       [-0.06363517],\n",
       "       [-0.06726771],\n",
       "       [-0.10722563],\n",
       "       [-0.02367725],\n",
       "       [ 0.05260606],\n",
       "       [ 0.06713621],\n",
       "       [-0.06000263],\n",
       "       [-0.02367725],\n",
       "       [ 0.03444337],\n",
       "       [ 0.03081083],\n",
       "       [ 0.01628068],\n",
       "       [ 0.04897352],\n",
       "       [ 0.01264814],\n",
       "       [-0.00914709],\n",
       "       [-0.00188202],\n",
       "       [-0.00188202],\n",
       "       [ 0.00538306],\n",
       "       [-0.09996055],\n",
       "       [-0.06000263],\n",
       "       [ 0.01991321],\n",
       "       [ 0.04534098],\n",
       "       [ 0.02717829],\n",
       "       [-0.05637009],\n",
       "       [-0.07816532],\n",
       "       [ 0.06713621],\n",
       "       [-0.04183994],\n",
       "       [ 0.03444337],\n",
       "       [ 0.05987114],\n",
       "       [-0.05273755],\n",
       "       [-0.00914709],\n",
       "       [-0.04910502],\n",
       "       [-0.04183994],\n",
       "       [-0.04183994],\n",
       "       [-0.02730979],\n",
       "       [ 0.04170844],\n",
       "       [ 0.06350368],\n",
       "       [-0.07090025],\n",
       "       [-0.04183994],\n",
       "       [-0.02730979],\n",
       "       [-0.03457486],\n",
       "       [ 0.06713621],\n",
       "       [-0.04547248],\n",
       "       [-0.00914709],\n",
       "       [ 0.04170844],\n",
       "       [ 0.03807591],\n",
       "       [ 0.01628068],\n",
       "       [-0.00188202],\n",
       "       [-0.00188202],\n",
       "       [ 0.06350368],\n",
       "       [ 0.01264814],\n",
       "       [ 0.01264814],\n",
       "       [-0.00914709],\n",
       "       [-0.03094232],\n",
       "       [-0.09632802],\n",
       "       [ 0.00538306],\n",
       "       [-0.10359309],\n",
       "       [ 0.07076875],\n",
       "       [ 0.01264814],\n",
       "       [-0.01641217],\n",
       "       [-0.0382074 ],\n",
       "       [ 0.00175052],\n",
       "       [ 0.04534098],\n",
       "       [-0.07090025],\n",
       "       [ 0.04534098],\n",
       "       [-0.05273755],\n",
       "       [-0.04547248],\n",
       "       [ 0.01264814],\n",
       "       [ 0.04534098],\n",
       "       [-0.02004471],\n",
       "       [-0.04910502],\n",
       "       [-0.07816532],\n",
       "       [-0.07090025],\n",
       "       [ 0.0562386 ],\n",
       "       [-0.02730979],\n",
       "       [ 0.00175052],\n",
       "       [-0.00188202],\n",
       "       [ 0.01628068],\n",
       "       [ 0.01628068],\n",
       "       [-0.09269548],\n",
       "       [ 0.05987114],\n",
       "       [-0.02730979],\n",
       "       [ 0.02354575],\n",
       "       [-0.09632802],\n",
       "       [ 0.02717829],\n",
       "       [ 0.01991321],\n",
       "       [ 0.03807591],\n",
       "       [ 0.04170844],\n",
       "       [ 0.01991321],\n",
       "       [-0.0854304 ],\n",
       "       [ 0.01991321],\n",
       "       [ 0.02354575],\n",
       "       [-0.03094232],\n",
       "       [ 0.04897352],\n",
       "       [ 0.05987114],\n",
       "       [-0.05637009],\n",
       "       [ 0.01628068],\n",
       "       [-0.04910502],\n",
       "       [ 0.06350368],\n",
       "       [ 0.04897352],\n",
       "       [ 0.00538306],\n",
       "       [-0.00551455],\n",
       "       [-0.00551455],\n",
       "       [-0.08906294],\n",
       "       [ 0.03444337],\n",
       "       [-0.05273755],\n",
       "       [ 0.0090156 ],\n",
       "       [-0.06363517],\n",
       "       [-0.09632802],\n",
       "       [ 0.01628068],\n",
       "       [-0.04183994],\n",
       "       [-0.07453279],\n",
       "       [-0.00551455],\n",
       "       [-0.09269548],\n",
       "       [ 0.00538306],\n",
       "       [ 0.03444337],\n",
       "       [ 0.02354575],\n",
       "       [ 0.04170844],\n",
       "       [-0.02730979],\n",
       "       [ 0.04170844],\n",
       "       [-0.03094232],\n",
       "       [ 0.03081083],\n",
       "       [-0.04183994],\n",
       "       [-0.03094232],\n",
       "       [-0.05637009],\n",
       "       [-0.06000263],\n",
       "       [-0.04910502],\n",
       "       [ 0.02354575],\n",
       "       [ 0.00175052],\n",
       "       [-0.03457486],\n",
       "       [ 0.04170844],\n",
       "       [ 0.06713621],\n",
       "       [-0.02730979],\n",
       "       [-0.01641217],\n",
       "       [-0.00188202],\n",
       "       [-0.01277963],\n",
       "       [-0.00551455],\n",
       "       [-0.00914709],\n",
       "       [-0.04547248],\n",
       "       [-0.05273755],\n",
       "       [ 0.01628068],\n",
       "       [ 0.04534098],\n",
       "       [-0.04183994],\n",
       "       [-0.05637009],\n",
       "       [ 0.07076875],\n",
       "       [ 0.00175052],\n",
       "       [-0.00188202],\n",
       "       [ 0.02354575],\n",
       "       [-0.02004471],\n",
       "       [ 0.04170844],\n",
       "       [-0.06363517],\n",
       "       [ 0.01628068],\n",
       "       [ 0.06713621],\n",
       "       [ 0.04534098],\n",
       "       [ 0.04897352],\n",
       "       [ 0.04170844],\n",
       "       [-0.02367725],\n",
       "       [-0.0382074 ],\n",
       "       [ 0.04897352],\n",
       "       [ 0.04534098],\n",
       "       [ 0.04534098],\n",
       "       [ 0.01628068],\n",
       "       [-0.07453279],\n",
       "       [-0.08179786],\n",
       "       [-0.06726771],\n",
       "       [ 0.00538306],\n",
       "       [-0.00188202],\n",
       "       [ 0.0090156 ],\n",
       "       [-0.00551455],\n",
       "       [ 0.0562386 ],\n",
       "       [ 0.0090156 ],\n",
       "       [-0.06726771],\n",
       "       [ 0.02717829],\n",
       "       [-0.02367725],\n",
       "       [ 0.04897352],\n",
       "       [-0.05273755],\n",
       "       [ 0.04170844],\n",
       "       [ 0.0562386 ],\n",
       "       [-0.03457486],\n",
       "       [ 0.08166637],\n",
       "       [-0.00188202],\n",
       "       [ 0.11072668],\n",
       "       [-0.03094232],\n",
       "       [ 0.00175052],\n",
       "       [ 0.0090156 ],\n",
       "       [ 0.03081083],\n",
       "       [ 0.03807591],\n",
       "       [ 0.0090156 ],\n",
       "       [ 0.09256398],\n",
       "       [ 0.06713621],\n",
       "       [ 0.00175052],\n",
       "       [ 0.03081083],\n",
       "       [ 0.02717829],\n",
       "       [ 0.01264814],\n",
       "       [ 0.07440129],\n",
       "       [-0.04183994],\n",
       "       [-0.08906294],\n",
       "       [ 0.02354575],\n",
       "       [-0.04547248],\n",
       "       [-0.02367725],\n",
       "       [-0.09996055],\n",
       "       [-0.02730979],\n",
       "       [ 0.03081083],\n",
       "       [-0.10359309],\n",
       "       [ 0.06713621],\n",
       "       [-0.05273755],\n",
       "       [-0.02730979],\n",
       "       [-0.0382074 ],\n",
       "       [ 0.0090156 ],\n",
       "       [ 0.01264814],\n",
       "       [ 0.06713621],\n",
       "       [ 0.04534098],\n",
       "       [ 0.06713621],\n",
       "       [ 0.02717829],\n",
       "       [ 0.0562386 ],\n",
       "       [ 0.03444337],\n",
       "       [ 0.02354575],\n",
       "       [ 0.04897352],\n",
       "       [ 0.03081083],\n",
       "       [-0.10359309],\n",
       "       [ 0.01628068],\n",
       "       [-0.06000263],\n",
       "       [-0.02730979],\n",
       "       [ 0.04170844],\n",
       "       [-0.08179786],\n",
       "       [-0.04183994],\n",
       "       [-0.01277963],\n",
       "       [ 0.06713621],\n",
       "       [-0.05273755],\n",
       "       [ 0.00538306],\n",
       "       [ 0.08166637],\n",
       "       [ 0.03081083],\n",
       "       [ 0.00175052],\n",
       "       [-0.04910502],\n",
       "       [-0.02730979],\n",
       "       [ 0.07803383],\n",
       "       [ 0.01264814],\n",
       "       [ 0.04170844],\n",
       "       [ 0.04897352],\n",
       "       [-0.01641217],\n",
       "       [-0.07453279],\n",
       "       [ 0.03444337],\n",
       "       [-0.03457486],\n",
       "       [-0.05273755],\n",
       "       [ 0.05987114],\n",
       "       [ 0.06350368],\n",
       "       [ 0.0090156 ],\n",
       "       [ 0.00538306],\n",
       "       [ 0.03807591],\n",
       "       [ 0.01264814],\n",
       "       [ 0.07440129],\n",
       "       [ 0.01628068],\n",
       "       [-0.00551455],\n",
       "       [ 0.01264814],\n",
       "       [-0.03457486],\n",
       "       [ 0.06713621],\n",
       "       [ 0.03807591],\n",
       "       [ 0.0090156 ],\n",
       "       [-0.09269548],\n",
       "       [ 0.07076875],\n",
       "       [-0.01641217],\n",
       "       [ 0.04170844],\n",
       "       [ 0.01264814],\n",
       "       [-0.0382074 ],\n",
       "       [ 0.04534098],\n",
       "       [ 0.07076875],\n",
       "       [-0.07453279],\n",
       "       [ 0.05987114],\n",
       "       [ 0.07440129],\n",
       "       [ 0.0090156 ],\n",
       "       [-0.07090025],\n",
       "       [ 0.02354575],\n",
       "       [-0.05273755],\n",
       "       [ 0.06713621],\n",
       "       [ 0.00175052],\n",
       "       [ 0.02354575],\n",
       "       [ 0.03807591],\n",
       "       [ 0.01628068],\n",
       "       [-0.00188202],\n",
       "       [ 0.01264814],\n",
       "       [ 0.07440129],\n",
       "       [ 0.04170844],\n",
       "       [-0.00914709],\n",
       "       [ 0.0090156 ],\n",
       "       [ 0.06713621],\n",
       "       [ 0.00175052],\n",
       "       [-0.00914709],\n",
       "       [-0.00551455],\n",
       "       [ 0.09619652],\n",
       "       [-0.07453279],\n",
       "       [ 0.05987114],\n",
       "       [-0.02367725],\n",
       "       [ 0.0090156 ],\n",
       "       [ 0.01628068],\n",
       "       [ 0.01991321],\n",
       "       [ 0.08893144],\n",
       "       [ 0.01991321],\n",
       "       [-0.02367725],\n",
       "       [ 0.09619652],\n",
       "       [ 0.02354575],\n",
       "       [ 0.07076875],\n",
       "       [ 0.03081083],\n",
       "       [-0.00188202],\n",
       "       [ 0.04534098],\n",
       "       [ 0.07440129],\n",
       "       [-0.0382074 ],\n",
       "       [-0.01277963],\n",
       "       [ 0.0090156 ],\n",
       "       [ 0.08166637],\n",
       "       [ 0.03081083],\n",
       "       [ 0.02717829],\n",
       "       [-0.06000263],\n",
       "       [ 0.00538306],\n",
       "       [-0.02004471],\n",
       "       [ 0.01991321],\n",
       "       [-0.06363517],\n",
       "       [ 0.02717829],\n",
       "       [-0.01641217],\n",
       "       [ 0.03081083],\n",
       "       [ 0.0562386 ],\n",
       "       [-0.02004471],\n",
       "       [-0.10722563],\n",
       "       [ 0.08166637],\n",
       "       [ 0.00538306],\n",
       "       [ 0.03807591],\n",
       "       [ 0.03081083],\n",
       "       [ 0.00175052],\n",
       "       [-0.02730979],\n",
       "       [-0.0854304 ],\n",
       "       [ 0.01264814],\n",
       "       [-0.05273755],\n",
       "       [-0.02367725],\n",
       "       [-0.07453279],\n",
       "       [-0.00551455],\n",
       "       [-0.06000263],\n",
       "       [-0.02004471],\n",
       "       [ 0.03807591],\n",
       "       [ 0.01628068],\n",
       "       [ 0.04170844],\n",
       "       [ 0.01991321],\n",
       "       [-0.04910502],\n",
       "       [ 0.00175052],\n",
       "       [ 0.03444337],\n",
       "       [-0.04547248],\n",
       "       [-0.00914709],\n",
       "       [-0.01641217],\n",
       "       [-0.00914709],\n",
       "       [ 0.01991321],\n",
       "       [ 0.05260606],\n",
       "       [-0.02730979],\n",
       "       [-0.07453279],\n",
       "       [-0.10722563],\n",
       "       [ 0.04534098],\n",
       "       [-0.00188202],\n",
       "       [ 0.01991321],\n",
       "       [ 0.01628068],\n",
       "       [-0.00188202],\n",
       "       [ 0.01628068],\n",
       "       [-0.07090025],\n",
       "       [ 0.04897352],\n",
       "       [ 0.00538306],\n",
       "       [ 0.03444337],\n",
       "       [ 0.02354575],\n",
       "       [ 0.01991321],\n",
       "       [-0.04547248],\n",
       "       [ 0.05260606],\n",
       "       [-0.00551455],\n",
       "       [ 0.0090156 ],\n",
       "       [-0.02367725],\n",
       "       [-0.04183994],\n",
       "       [-0.07453279],\n",
       "       [ 0.03444337],\n",
       "       [-0.06000263],\n",
       "       [-0.0854304 ],\n",
       "       [ 0.05260606],\n",
       "       [ 0.01264814],\n",
       "       [ 0.05987114],\n",
       "       [-0.02367725],\n",
       "       [ 0.01628068],\n",
       "       [ 0.11072668],\n",
       "       [-0.02004471],\n",
       "       [-0.01641217],\n",
       "       [ 0.04897352],\n",
       "       [-0.05637009],\n",
       "       [ 0.02717829],\n",
       "       [ 0.06350368],\n",
       "       [-0.05273755],\n",
       "       [-0.00914709],\n",
       "       [ 0.00538306],\n",
       "       [ 0.07440129],\n",
       "       [-0.05273755],\n",
       "       [ 0.08166637],\n",
       "       [-0.00551455],\n",
       "       [-0.02730979],\n",
       "       [-0.05273755],\n",
       "       [ 0.0090156 ],\n",
       "       [-0.02004471],\n",
       "       [ 0.02354575],\n",
       "       [ 0.03807591],\n",
       "       [-0.07816532],\n",
       "       [ 0.0090156 ],\n",
       "       [ 0.00175052],\n",
       "       [-0.07816532],\n",
       "       [ 0.03081083],\n",
       "       [-0.03457486],\n",
       "       [ 0.04897352],\n",
       "       [-0.04183994],\n",
       "       [-0.00914709],\n",
       "       [ 0.07076875],\n",
       "       [ 0.0090156 ],\n",
       "       [-0.02730979],\n",
       "       [ 0.01628068],\n",
       "       [-0.01277963],\n",
       "       [-0.05637009],\n",
       "       [ 0.04170844],\n",
       "       [-0.00551455],\n",
       "       [ 0.04170844],\n",
       "       [-0.04547248],\n",
       "       [-0.04547248]])"
      ]
     },
     "execution_count": 9,
     "metadata": {},
     "output_type": "execute_result"
    }
   ],
   "source": [
    "# Use only one feature ???\n",
    "\n",
    "diabetes_X = diabetes.data[:, np.newaxis,0]\n",
    "diabetes_X"
   ]
  },
  {
   "cell_type": "code",
   "execution_count": 13,
   "metadata": {},
   "outputs": [
    {
     "data": {
      "text/plain": [
       "(442, 1)"
      ]
     },
     "execution_count": 13,
     "metadata": {},
     "output_type": "execute_result"
    }
   ],
   "source": [
    "np.shape(diabetes_X)"
   ]
  },
  {
   "cell_type": "code",
   "execution_count": 14,
   "metadata": {},
   "outputs": [],
   "source": [
    "# Split the data into training/testing sets\n",
    "diabetes_X_train = diabetes_X[:-20]\n",
    "diabetes_X_test = diabetes_X[-20:]"
   ]
  },
  {
   "cell_type": "code",
   "execution_count": 15,
   "metadata": {},
   "outputs": [],
   "source": [
    "# Split the targets into training/testing sets\n",
    "diabetes_y_train = diabetes.target[:-20]\n",
    "diabetes_y_test = diabetes.target[-20:]"
   ]
  },
  {
   "cell_type": "code",
   "execution_count": 17,
   "metadata": {},
   "outputs": [
    {
     "data": {
      "text/plain": [
       "LinearRegression(copy_X=True, fit_intercept=True, n_jobs=1, normalize=False)"
      ]
     },
     "execution_count": 17,
     "metadata": {},
     "output_type": "execute_result"
    }
   ],
   "source": [
    "# Create linear regression object\n",
    "regr = linear_model.LinearRegression()\n",
    "regr"
   ]
  },
  {
   "cell_type": "code",
   "execution_count": 20,
   "metadata": {},
   "outputs": [
    {
     "data": {
      "text/plain": [
       "LinearRegression(copy_X=True, fit_intercept=True, n_jobs=1, normalize=False)"
      ]
     },
     "execution_count": 20,
     "metadata": {},
     "output_type": "execute_result"
    }
   ],
   "source": [
    "# Train the model using the training sets\n",
    "res = regr.fit(diabetes_X_train, diabetes_y_train)\n",
    "res"
   ]
  },
  {
   "cell_type": "code",
   "execution_count": 21,
   "metadata": {},
   "outputs": [],
   "source": [
    "# Make predictions using the testing set\n",
    "diabetes_y_pred = regr.predict(diabetes_X_test)"
   ]
  },
  {
   "cell_type": "code",
   "execution_count": 26,
   "metadata": {},
   "outputs": [
    {
     "name": "stdout",
     "output_type": "stream",
     "text": [
      "Coefficients: \n",
      " [306.72757499]\n",
      "Mean squared error: 5472.26\n",
      "Variance score: -0.13\n"
     ]
    }
   ],
   "source": [
    "# The coefficients\n",
    "print('Coefficients: \\n', regr.coef_)\n",
    "# The mean squared error\n",
    "print(\"Mean squared error: %.2f\"\n",
    "      % mean_squared_error(diabetes_y_test, diabetes_y_pred))\n",
    "# Explained variance score: 1 is perfect prediction\n",
    "#百度搜r2_score公式\n",
    "print('Variance score: %.2f' % r2_score(diabetes_y_test, diabetes_y_pred))"
   ]
  },
  {
   "cell_type": "code",
   "execution_count": 28,
   "metadata": {},
   "outputs": [
    {
     "data": {
      "image/png": "[encoded data removed]",
      "text/plain": [
       "<Figure size 432x288 with 1 Axes>"
      ]
     },
     "metadata": {},
     "output_type": "display_data"
    }
   ],
   "source": [
    "# Plot outputs\n",
    "plt.scatter(diabetes_X_test, diabetes_y_test,  color='black')\n",
    "plt.plot(diabetes_X_test, diabetes_y_pred, color='blue', linewidth=3)\n",
    "\n",
    "plt.xticks(())\n",
    "plt.yticks(())\n",
    "\n",
    "plt.show()\n"
   ]
  },
  {
   "cell_type": "code",
   "execution_count": null,
   "metadata": {},
   "outputs": [],
   "source": []
  },
  {
   "cell_type": "code",
   "execution_count": null,
   "metadata": {},
   "outputs": [],
   "source": []
  },
  {
   "cell_type": "code",
   "execution_count": null,
   "metadata": {},
   "outputs": [],
   "source": []
  },
  {
   "cell_type": "code",
   "execution_count": null,
   "metadata": {},
   "outputs": [],
   "source": []
  }
 ],
 "metadata": {
  "kernelspec": {
   "display_name": "Python 3",
   "language": "python",
   "name": "python3"
  },
  "language_info": {
   "codemirror_mode": {
    "name": "ipython",
    "version": 3
   },
   "file_extension": ".py",
   "mimetype": "text/x-python",
   "name": "python",
   "nbconvert_exporter": "python",
   "pygments_lexer": "ipython3",
   "version": "3.5.2"
  }
 },
 "nbformat": 4,
 "nbformat_minor": 2
}
